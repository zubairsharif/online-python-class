{
 "cells": [
  {
   "cell_type": "code",
   "execution_count": 3,
   "id": "0643120f",
   "metadata": {},
   "outputs": [
    {
     "name": "stdout",
     "output_type": "stream",
     "text": [
      "Hello World\n"
     ]
    }
   ],
   "source": [
    "print (\"Hello World\");"
   ]
  },
  {
   "cell_type": "code",
   "execution_count": 4,
   "id": "97bcc818",
   "metadata": {},
   "outputs": [
    {
     "name": "stdout",
     "output_type": "stream",
     "text": [
      "Twinkle, twinkle, little star,\n"
     ]
    }
   ],
   "source": [
    "print (\"Twinkle, twinkle, little star,\");"
   ]
  },
  {
   "cell_type": "code",
   "execution_count": 5,
   "id": "529c0c82",
   "metadata": {},
   "outputs": [
    {
     "name": "stdout",
     "output_type": "stream",
     "text": [
      "How I wonder What you are\n"
     ]
    }
   ],
   "source": [
    "print (\"How I wonder What you are\");"
   ]
  },
  {
   "cell_type": "code",
   "execution_count": 6,
   "id": "c4654079",
   "metadata": {},
   "outputs": [
    {
     "name": "stdout",
     "output_type": "stream",
     "text": [
      "Up above the world so high\n"
     ]
    }
   ],
   "source": [
    "print (\"Up above the world so high\");"
   ]
  },
  {
   "cell_type": "code",
   "execution_count": 7,
   "id": "69411090",
   "metadata": {},
   "outputs": [
    {
     "name": "stdout",
     "output_type": "stream",
     "text": [
      "Like a diamond in the Sky\n"
     ]
    }
   ],
   "source": [
    "print (\"Like a diamond in the Sky\");\n"
   ]
  },
  {
   "cell_type": "code",
   "execution_count": 8,
   "id": "a3482acf",
   "metadata": {},
   "outputs": [
    {
     "name": "stdout",
     "output_type": "stream",
     "text": [
      "Twinkle, twinkle, little star,\n"
     ]
    }
   ],
   "source": [
    "print (\"Twinkle, twinkle, little star,\");"
   ]
  },
  {
   "cell_type": "code",
   "execution_count": 9,
   "id": "a7dfcf28",
   "metadata": {},
   "outputs": [
    {
     "name": "stdout",
     "output_type": "stream",
     "text": [
      "How I wonder What you are\n"
     ]
    }
   ],
   "source": [
    "print (\"How I wonder What you are\");"
   ]
  },
  {
   "cell_type": "code",
   "execution_count": 16,
   "id": "14892700",
   "metadata": {},
   "outputs": [
    {
     "name": "stdout",
     "output_type": "stream",
     "text": [
      "3.9.7 (default, Sep 16 2021, 16:59:28) [MSC v.1916 64 bit (AMD64)]\n"
     ]
    }
   ],
   "source": [
    "import sys\n",
    "print (sys.version)"
   ]
  },
  {
   "cell_type": "code",
   "execution_count": 20,
   "id": "634fe2e5",
   "metadata": {},
   "outputs": [
    {
     "name": "stdout",
     "output_type": "stream",
     "text": [
      "Current date and time : \n",
      "2021-12-31 15:05:00\n"
     ]
    }
   ],
   "source": [
    "import datetime\n",
    "now = datetime.datetime.now()\n",
    "print (\"Current date and time : \")\n",
    "print (now.strftime(\"%Y-%m-%d %H:%M:%S\"))"
   ]
  },
  {
   "cell_type": "code",
   "execution_count": 21,
   "id": "965a9362",
   "metadata": {},
   "outputs": [
    {
     "name": "stdout",
     "output_type": "stream",
     "text": [
      "Input the radius of the circle : 2\n",
      "The area of the circle with radius 2.0 is: 12.566370614359172\n"
     ]
    }
   ],
   "source": [
    "from math import pi\n",
    "r = float(input (\"Input the radius of the circle : \"))\n",
    "print (\"The area of the circle with radius \" + str(r) + \" is: \" + str(pi * r**2))\n"
   ]
  }
 ],
 "metadata": {
  "kernelspec": {
   "display_name": "Python 3 (ipykernel)",
   "language": "python",
   "name": "python3"
  },
  "language_info": {
   "codemirror_mode": {
    "name": "ipython",
    "version": 3
   },
   "file_extension": ".py",
   "mimetype": "text/x-python",
   "name": "python",
   "nbconvert_exporter": "python",
   "pygments_lexer": "ipython3",
   "version": "3.9.7"
  }
 },
 "nbformat": 4,
 "nbformat_minor": 5
}
